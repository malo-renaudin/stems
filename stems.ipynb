{
 "cells": [
  {
   "cell_type": "code",
   "execution_count": 1,
   "metadata": {},
   "outputs": [
    {
     "name": "stderr",
     "output_type": "stream",
     "text": [
      "/Users/malorenaudin/Library/Caches/pypoetry/virtualenvs/stems_kernel-OtdW1qu4-py3.10/lib/python3.10/site-packages/tqdm/auto.py:21: TqdmWarning: IProgress not found. Please update jupyter and ipywidgets. See https://ipywidgets.readthedocs.io/en/stable/user_install.html\n",
      "  from .autonotebook import tqdm as notebook_tqdm\n"
     ]
    },
    {
     "name": "stdout",
     "output_type": "stream",
     "text": [
      "* Running on local URL:  http://127.0.0.1:7860\n",
      "\n",
      "To create a public link, set `share=True` in `launch()`.\n"
     ]
    },
    {
     "data": {
      "text/html": [
       "<div><iframe src=\"http://127.0.0.1:7860/\" width=\"100%\" height=\"500\" allow=\"autoplay; camera; microphone; clipboard-read; clipboard-write;\" frameborder=\"0\" allowfullscreen></iframe></div>"
      ],
      "text/plain": [
       "<IPython.core.display.HTML object>"
      ]
     },
     "metadata": {},
     "output_type": "display_data"
    },
    {
     "name": "stdout",
     "output_type": "stream",
     "text": [
      "Keyboard interruption in main thread... closing server.\n"
     ]
    }
   ],
   "source": [
    "import os\n",
    "import shutil\n",
    "import subprocess\n",
    "import gradio as gr\n",
    "from demucs.apply import apply_model\n",
    "import torch\n",
    "import torchaudio\n",
    "\n",
    "def reencode_audio(input_file, output_file):\n",
    "    \"\"\"Reencode audio file using ffmpeg.\"\"\"\n",
    "    command = [\"ffmpeg\", \"-i\", input_file, \"-ar\", \"44100\", \"-ac\", \"2\", output_file]\n",
    "    subprocess.run(command, check=True)\n",
    "\n",
    "def split_audio(input_file):\n",
    "    \"\"\"Split audio into stems using Demucs.\"\"\"\n",
    "    # Load Demucs pretrained model\n",
    "    model = pretrained.get_model(\"htdemucs\")\n",
    "    model.cpu()\n",
    "    output_dir = \"demucs_output\"\n",
    "    \n",
    "    # Ensure the output directory exists\n",
    "    if os.path.exists(output_dir):\n",
    "        shutil.rmtree(output_dir)\n",
    "    os.makedirs(output_dir, exist_ok=True)\n",
    "\n",
    "    # Load and process the audio file\n",
    "    wav, sr = torchaudio.load(input_file)\n",
    "    \n",
    "    # Convert to stereo if mono\n",
    "    if wav.shape[0] == 1:\n",
    "        wav = wav.repeat(2, 1)\n",
    "    \n",
    "    # Ensure correct sample rate\n",
    "    if sr != model.samplerate:\n",
    "        wav = torchaudio.transforms.Resample(sr, model.samplerate)(wav)\n",
    "    \n",
    "    # Normalize audio\n",
    "    wav = wav / wav.abs().max()\n",
    "    \n",
    "    # Apply the model\n",
    "    with torch.no_grad():\n",
    "        sources = apply_model(model, wav[None], device=\"cpu\")[0]\n",
    "    \n",
    "    # Process and save each stem\n",
    "    stems = [\"vocals\", \"drums\", \"bass\", \"other\"]\n",
    "    output_files = {}\n",
    "    \n",
    "    for source, stem in zip(sources, stems):\n",
    "        # Denormalize\n",
    "        source = source * wav.abs().max()\n",
    "        \n",
    "        stem_path = os.path.join(output_dir, f\"{stem}.wav\")\n",
    "        torchaudio.save(stem_path, source.cpu(), model.samplerate)\n",
    "        \n",
    "        # Reencode the stem\n",
    "        reencoded_path = os.path.join(output_dir, f\"{stem}_reencoded.wav\")\n",
    "        reencode_audio(stem_path, reencoded_path)\n",
    "        output_files[stem] = reencoded_path\n",
    "    \n",
    "    return [output_files.get(stem) for stem in stems]\n",
    "\n",
    "def gradio_splitter(input_file):\n",
    "    \"\"\"Gradio interface function.\"\"\"\n",
    "    if input_file is None:\n",
    "        return [None] * 4\n",
    "    return split_audio(input_file)\n",
    "\n",
    "# Create Gradio Interface\n",
    "with gr.Blocks() as app:\n",
    "    gr.Markdown(\"## 🎶 Audio Stem Splitter\")\n",
    "    gr.Markdown(\"Upload an audio file, and the app will split it into 4 stems: vocals, drums, bass, and other.\")\n",
    "    \n",
    "    with gr.Row():\n",
    "        input_file = gr.Audio(type=\"filepath\", label=\"Upload your audio file\")\n",
    "    \n",
    "    with gr.Row():\n",
    "        output_vocals = gr.Audio(label=\"Vocals\")\n",
    "        output_drums = gr.Audio(label=\"Drums\")\n",
    "        output_bass = gr.Audio(label=\"Bass\")\n",
    "        output_other = gr.Audio(label=\"Other\")\n",
    "    \n",
    "    submit_button = gr.Button(\"Split Audio\")\n",
    "    submit_button.click(\n",
    "        fn=gradio_splitter,\n",
    "        inputs=[input_file],\n",
    "        outputs=[output_vocals, output_drums, output_bass, output_other]\n",
    "    )\n",
    "\n",
    "if __name__ == \"__main__\":\n",
    "    app.launch(debug=True)"
   ]
  }
 ],
 "metadata": {
  "kernelspec": {
   "display_name": "stems_kernel-OtdW1qu4-py3.10",
   "language": "python",
   "name": "python3"
  },
  "language_info": {
   "codemirror_mode": {
    "name": "ipython",
    "version": 3
   },
   "file_extension": ".py",
   "mimetype": "text/x-python",
   "name": "python",
   "nbconvert_exporter": "python",
   "pygments_lexer": "ipython3",
   "version": "3.10.15"
  }
 },
 "nbformat": 4,
 "nbformat_minor": 2
}
